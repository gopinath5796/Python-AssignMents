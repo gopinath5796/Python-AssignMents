{
 "cells": [
  {
   "cell_type": "code",
   "execution_count": 2,
   "metadata": {},
   "outputs": [
    {
     "name": "stdout",
     "output_type": "stream",
     "text": [
      "Sub-fields in AI are:\n",
      "Machine Learning\n",
      "Neural Network\n",
      "Vision\n",
      "Robotics\n",
      "Speech Processing\n",
      "Natural Language Processing\n"
     ]
    }
   ],
   "source": [
    "def Subfields():\n",
    "    print(\"Sub-fields in AI are:\")\n",
    "    A=[\"Machine Learning\",\"Neural Network\",\"Vision\",\"Robotics\",\"Speech Processing\",\"Natural Language Processing\"]\n",
    "    for AI in A:\n",
    "        print(AI)\n",
    "        New=(\"AI\")\n",
    "    return New\n",
    "Store=Subfields()"
   ]
  },
  {
   "cell_type": "code",
   "execution_count": 3,
   "metadata": {},
   "outputs": [
    {
     "name": "stdout",
     "output_type": "stream",
     "text": [
      "Enter a number :52452\n",
      "52452 is Even number\n"
     ]
    }
   ],
   "source": [
    "def oddEven():\n",
    "    Num1=int(input(\"Enter a number :\"))\n",
    "    if((Num1%2)==0):\n",
    "        print(Num1,\"is Even number\")\n",
    "        msg=\"The Entered number is EVEN\"\n",
    "    else:\n",
    "        print(Num1,\"is odd number\")\n",
    "        msg=\"The Entered number id ODD\"\n",
    "        return msg\n",
    "Result=oddEven()"
   ]
  },
  {
   "cell_type": "code",
   "execution_count": 4,
   "metadata": {},
   "outputs": [
    {
     "name": "stdout",
     "output_type": "stream",
     "text": [
      "Your Gender :Male\n",
      "Your Age :20\n",
      "Not Eligible\n"
     ]
    }
   ],
   "source": [
    "def Eligible():\n",
    "    A=input(\"Your Gender :\")\n",
    "    B=int(input(\"Your Age :\"))\n",
    "    if((A==\"Male\" and B>=21) or (A==\"Female\" and B>=18)):\n",
    "        print(\"Eligible\")\n",
    "        msg:\"Eligible\"\n",
    "    else:\n",
    "        print(\"Not Eligible\")\n",
    "        msg=\"Not Eligible\"\n",
    "    return msg\n",
    "Result=Eligible()"
   ]
  },
  {
   "cell_type": "code",
   "execution_count": 2,
   "metadata": {},
   "outputs": [
    {
     "name": "stdout",
     "output_type": "stream",
     "text": [
      "Subject1=98\n",
      "Subject2=87\n",
      "Subject3=95\n",
      "Subject4=95\n",
      "Subject5=93\n",
      "Total : 468\n",
      "Percentage : 93.6\n"
     ]
    }
   ],
   "source": [
    "def Percentage():\n",
    "    sub1=int(input(\"Subject1=\"))\n",
    "    sub2=int(input(\"Subject2=\"))\n",
    "    sub3=int(input(\"Subject3=\"))\n",
    "    sub4=int(input(\"Subject4=\"))\n",
    "    sub5=int(input(\"Subject5=\"))\n",
    "    Add=(sub1+sub2+sub3+sub4+sub5)\n",
    "    percent=(Add/5)\n",
    "    print(\"Total :\",Add)\n",
    "    msg=\"Add\"\n",
    "    print(\"Percentage :\",percent)\n",
    "    msg=\"percent\"\n",
    "per=Percentage()"
   ]
  },
  {
   "cell_type": "code",
   "execution_count": 4,
   "metadata": {},
   "outputs": [
    {
     "name": "stdout",
     "output_type": "stream",
     "text": [
      "Height :32\n",
      "Breadth :34\n",
      "Area Formula : (Height*Breadth)/2\n",
      "Area of the Triangle : 544.0\n",
      "Height1 :2\n",
      "Height2 :4\n",
      "Breadth :4\n",
      "Perimeter Formula : Height1+Height2+Breadth\n",
      "Perimeter of Triangle : 10\n"
     ]
    }
   ],
   "source": [
    "def Triangle():\n",
    "    L1=int(input(\"Height :\"))\n",
    "    L2=int(input(\"Breadth :\"))\n",
    "    A=L1*L2\n",
    "    Area=A/2\n",
    "    print(\"Area Formula : (Height*Breadth)/2\")\n",
    "    print(\"Area of the Triangle :\",Area)\n",
    "    msg=\"Area\"\n",
    "    T1=int(input(\"Height1 :\"))\n",
    "    T2=int(input(\"Height2 :\"))\n",
    "    T3=int(input(\"Breadth :\"))\n",
    "    Peri=T1+T2+T3\n",
    "    print(\"Perimeter Formula : Height1+Height2+Breadth\")\n",
    "    print(\"Perimeter of Triangle :\",Peri)\n",
    "    msg=\"Peri\"\n",
    "    return msg\n",
    "AandP=Triangle()"
   ]
  },
  {
   "cell_type": "code",
   "execution_count": null,
   "metadata": {},
   "outputs": [],
   "source": []
  },
  {
   "cell_type": "code",
   "execution_count": null,
   "metadata": {},
   "outputs": [],
   "source": []
  }
 ],
 "metadata": {
  "kernelspec": {
   "display_name": "Python 3",
   "language": "python",
   "name": "python3"
  },
  "language_info": {
   "codemirror_mode": {
    "name": "ipython",
    "version": 3
   },
   "file_extension": ".py",
   "mimetype": "text/x-python",
   "name": "python",
   "nbconvert_exporter": "python",
   "pygments_lexer": "ipython3",
   "version": "3.7.4"
  }
 },
 "nbformat": 4,
 "nbformat_minor": 2
}
