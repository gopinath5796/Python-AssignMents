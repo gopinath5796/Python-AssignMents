{
 "cells": [
  {
   "cell_type": "code",
   "execution_count": 2,
   "metadata": {},
   "outputs": [
    {
     "name": "stdout",
     "output_type": "stream",
     "text": [
      "HOPE AI\n"
     ]
    }
   ],
   "source": [
    "print(\"HOPE AI\")"
   ]
  },
  {
   "cell_type": "code",
   "execution_count": 3,
   "metadata": {},
   "outputs": [
    {
     "name": "stdout",
     "output_type": "stream",
     "text": [
      "Enter Your Institute Name?: HOPE AI\n"
     ]
    }
   ],
   "source": [
    "Name=\"HOPE AI\"\n",
    "print(\"Enter Your Institute Name?:\",Name)"
   ]
  },
  {
   "cell_type": "code",
   "execution_count": 4,
   "metadata": {},
   "outputs": [
    {
     "name": "stdout",
     "output_type": "stream",
     "text": [
      "Enter Your Name: Raj\n",
      "Enter Your Age: 15\n",
      "Enter Your School Name: Guru School\n",
      "Enter Your Course: B.E CSE\n"
     ]
    }
   ],
   "source": [
    "VarA=\"Raj\"\n",
    "VarB=\"15\"\n",
    "VarC=\"Guru School\"\n",
    "VarD=\"B.E CSE\"\n",
    "print(\"Enter Your Name:\",VarA)\n",
    "print(\"Enter Your Age:\",VarB)\n",
    "print(\"Enter Your School Name:\",VarC)\n",
    "print(\"Enter Your Course:\",VarD)"
   ]
  },
  {
   "cell_type": "code",
   "execution_count": 7,
   "metadata": {},
   "outputs": [
    {
     "name": "stdout",
     "output_type": "stream",
     "text": [
      "a=43\n",
      "b=34\n",
      "Add = 77\n"
     ]
    }
   ],
   "source": [
    "A=int(input(\"a=\"))\n",
    "B=int(input(\"b=\"))            \n",
    "C=A+B\n",
    "print(\"Add =\",C)"
   ]
  },
  {
   "cell_type": "code",
   "execution_count": 8,
   "metadata": {},
   "outputs": [
    {
     "name": "stdout",
     "output_type": "stream",
     "text": [
      "a=43\n",
      "b=34\n",
      "Sub = 9\n"
     ]
    }
   ],
   "source": [
    "A=int(input(\"a=\"))\n",
    "B=int(input(\"b=\"))            \n",
    "C=A-B\n",
    "print(\"Sub =\",C)"
   ]
  },
  {
   "cell_type": "code",
   "execution_count": 9,
   "metadata": {},
   "outputs": [
    {
     "name": "stdout",
     "output_type": "stream",
     "text": [
      "a=63\n",
      "b=97\n",
      "Mul = 6111\n"
     ]
    }
   ],
   "source": [
    "A=int(input(\"a=\"))\n",
    "B=int(input(\"b=\"))            \n",
    "C=A*B\n",
    "print(\"Mul =\",C)"
   ]
  },
  {
   "cell_type": "code",
   "execution_count": 11,
   "metadata": {},
   "outputs": [
    {
     "name": "stdout",
     "output_type": "stream",
     "text": [
      "a=76\n",
      "b=31\n",
      "Float Div = 2.4516129032258065\n"
     ]
    }
   ],
   "source": [
    "A=int(input(\"a=\"))\n",
    "B=int(input(\"b=\"))            \n",
    "C=A/B\n",
    "print(\"Float Div =\",C)"
   ]
  },
  {
   "cell_type": "code",
   "execution_count": 15,
   "metadata": {},
   "outputs": [
    {
     "name": "stdout",
     "output_type": "stream",
     "text": [
      "a=76\n",
      "b=31\n",
      "Floor Div = 2\n"
     ]
    }
   ],
   "source": [
    "A=int(input(\"a=\"))\n",
    "B=int(input(\"b=\"))            \n",
    "C=A//B\n",
    "print(\"Floor Div =\",C)"
   ]
  },
  {
   "cell_type": "code",
   "execution_count": 16,
   "metadata": {},
   "outputs": [
    {
     "name": "stdout",
     "output_type": "stream",
     "text": [
      "a=76\n",
      "b=31\n",
      "Modulo = 14\n"
     ]
    }
   ],
   "source": [
    "A=int(input(\"a=\"))\n",
    "B=int(input(\"b=\"))            \n",
    "C=A%B\n",
    "print(\"Modulo =\",C)"
   ]
  },
  {
   "cell_type": "code",
   "execution_count": 17,
   "metadata": {},
   "outputs": [
    {
     "name": "stdout",
     "output_type": "stream",
     "text": [
      "a=4\n",
      "b=4\n",
      "Power = 256\n"
     ]
    }
   ],
   "source": [
    "A=int(input(\"a=\"))\n",
    "B=int(input(\"b=\"))            \n",
    "C=A**B\n",
    "print(\"Power =\",C)"
   ]
  },
  {
   "cell_type": "code",
   "execution_count": null,
   "metadata": {},
   "outputs": [],
   "source": []
  }
 ],
 "metadata": {
  "kernelspec": {
   "display_name": "Python 3",
   "language": "python",
   "name": "python3"
  },
  "language_info": {
   "codemirror_mode": {
    "name": "ipython",
    "version": 3
   },
   "file_extension": ".py",
   "mimetype": "text/x-python",
   "name": "python",
   "nbconvert_exporter": "python",
   "pygments_lexer": "ipython3",
   "version": "3.7.4"
  }
 },
 "nbformat": 4,
 "nbformat_minor": 2
}
