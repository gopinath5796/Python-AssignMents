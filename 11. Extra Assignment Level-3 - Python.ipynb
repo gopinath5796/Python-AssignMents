{
 "cells": [
  {
   "cell_type": "code",
   "execution_count": 5,
   "metadata": {},
   "outputs": [
    {
     "name": "stdout",
     "output_type": "stream",
     "text": [
      "Value :10\n",
      "correct\n"
     ]
    }
   ],
   "source": [
    "A=int(input(\"Value :\"))\n",
    "if(A==10):\n",
    "    print(\"correct\")"
   ]
  },
  {
   "cell_type": "code",
   "execution_count": 8,
   "metadata": {},
   "outputs": [
    {
     "name": "stdout",
     "output_type": "stream",
     "text": [
      "Enter the password:Hope@123\n",
      "Your Password is Correct\n"
     ]
    }
   ],
   "source": [
    "VarA=input(\"Enter the password:\")\n",
    "if(VarA==\"Hope@123\"):\n",
    "    print(\"Your Password is Correct\")\n",
    "else:\n",
    "    print(\"Invalid Passord, Try Again...\")\n"
   ]
  },
  {
   "cell_type": "code",
   "execution_count": 13,
   "metadata": {},
   "outputs": [
    {
     "name": "stdout",
     "output_type": "stream",
     "text": [
      "Age :30\n",
      "Adult\n"
     ]
    }
   ],
   "source": [
    "A=int(input(\"Age :\"))\n",
    "if(A<18):\n",
    "    print(\"children\")\n",
    "elif(A<35):\n",
    "    print(\"Adult\")\n",
    "elif(A<60):\n",
    "    print(\"Citizen\")\n",
    "else:\n",
    "    print(\"Senior Citizen\")"
   ]
  },
  {
   "cell_type": "code",
   "execution_count": 20,
   "metadata": {},
   "outputs": [
    {
     "name": "stdout",
     "output_type": "stream",
     "text": [
      "Enter any number :5\n",
      "No. is Positive\n"
     ]
    }
   ],
   "source": [
    "A=float(input(\"Enter any number :\"))\n",
    "if(A>0):\n",
    "    print(\"No. is Positive\")\n",
    "else:\n",
    "    print(\"No. is Negative\")"
   ]
  },
  {
   "cell_type": "code",
   "execution_count": 25,
   "metadata": {},
   "outputs": [
    {
     "name": "stdout",
     "output_type": "stream",
     "text": [
      "Enter a number to check :22\n",
      "No. is not Divisible by 5\n"
     ]
    }
   ],
   "source": [
    "A=int(input(\"Enter a number to check :\"))\n",
    "if(A%5==0):\n",
    "        print(\"No. is Divisible by 5\")\n",
    "else:\n",
    "    print(\"No. is not Divisible by 5\")"
   ]
  },
  {
   "cell_type": "code",
   "execution_count": null,
   "metadata": {},
   "outputs": [],
   "source": []
  }
 ],
 "metadata": {
  "kernelspec": {
   "display_name": "Python 3",
   "language": "python",
   "name": "python3"
  },
  "language_info": {
   "codemirror_mode": {
    "name": "ipython",
    "version": 3
   },
   "file_extension": ".py",
   "mimetype": "text/x-python",
   "name": "python",
   "nbconvert_exporter": "python",
   "pygments_lexer": "ipython3",
   "version": "3.7.4"
  }
 },
 "nbformat": 4,
 "nbformat_minor": 2
}
